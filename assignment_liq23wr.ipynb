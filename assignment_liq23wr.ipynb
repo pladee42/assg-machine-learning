{
 "cells": [
  {
   "cell_type": "markdown",
   "metadata": {
    "id": "sJVjTWyqvBS7"
   },
   "source": [
    "# COM4509/6509 Assignment 2024\n",
    "\n",
    "Hello, this is the programming assignment for *Machine Learning and Adaptive Intelligence*. This is worth 50% of the module grade, the remaining 50% will be assessed via the formal exam.\n",
    "\n",
    "**Deadline: 13th December 2024, 23:59**\n",
    "\n",
    "Please submit well before the deadline as there may be delays in the submission. Submission will be via Blackboard.\n",
    "\n",
    "There are 2 parts to this assignment, covering different portions of the course. Both parts are worth 50 marks to give a combined total of 100 marks. Both contain a set of questions which will ask you to implement various machine learning algorithms that are covered throughout the course. You will receive marks for the correctness of your implementations, text based responses to certain questions and the quality of your code. Each question indicates how many marks are available.\n",
    "\n",
    "### Use of unfair means and Generative AI\n",
    "\n",
    "For this assignment **you must not use code/text produced by generative AI, that is created using a prompt**. The 'autocomplete' feature in colab can still be used.\n",
    "\n",
    "This is an individual assignment, while you may discuss this with your classmates, **please make sure you submit your own code**. You are allowed to use code from the labs as a basis of your submission.\n",
    "\n",
    "The university's policy on the use of GenAI is on [this page](https://www.sheffield.ac.uk/study-skills/digital/generative-ai/assessment).\n",
    "\n",
    "\"Any form of unfair means is treated as a serious academic offence and action may be taken under the Discipline Regulations.\" (from the students Handbook).\n",
    "\n",
    "### Assignment help\n",
    "\n",
    "If you are stuck and unsure what you need to do then please ask either in the lectures, labs or on the discussion board. There is a limit to what help we can provide but where possible we will give general guidance with how to proceed.\n",
    "\n",
    "We are happy for you to discuss the assignment with other students but your code and test answers **must** be your own.\n",
    "\n",
    "### What to submit\n",
    "\n",
    "- You need to submit a **pdf** of your notebook *and* the **notebook**. Please name them:\n",
    "\n",
    "```\n",
    "assignment_[username].ipynb\n",
    "assignment_[username].pdf\n",
    "```\n",
    "replacing `[username]` with your username, e.g. `abc18de`.\n",
    "\n",
    "- **Please execute the cells before your submission**, so we can see the results in the pdf. The best way to get a pdf is using Jupyter Notebook locally but if you are using Google Colab and are unable to download it to use Jupyter then you can use the Google Colab *file $\\rightarrow$ print* to get a pdf copy.\n",
    "- **Please do not upload** the data files used in this Notebook. We just want the python notebook *and the pdf*.\n",
    "\n",
    "### Late submissions\n",
    "\n",
    "We follow the department's guidelines about late submissions, Undergraduate [handbook link](https://sites.google.com/sheffield.ac.uk/comughandbook/your-study/assessment/late-submission). PGT [handbook link](https://sites.google.com/sheffield.ac.uk/compgtstudenthandbook/home/your-study/assessment/late-submission).\n"
   ]
  },
  {
   "cell_type": "markdown",
   "metadata": {
    "id": "VAjrJalguOlP"
   },
   "source": [
    "# Part 1: Tracking Bees\n",
    "\n",
    "### Overview\n",
    "This part of the assignment will cover lectures:\n",
    " - 1, Introduction to Machine Learning\n",
    " - 2, parts of End-to-End ML\n",
    " - 4, Linear regression\n",
    "\n",
    "### Allowed libraries\n",
    "For this part we are looking for you to demonstrate what you have learned in this module - the libraries needed are already imported in the code below - you shouldn't need to import any other library.\n",
    "\n",
    "### Marks\n",
    "\n",
    "There are 50 marks available for this half of the coursework (45 in the nine questions below, and 5 for code quality and clarity). The marks for code quality does not cover the correctness of your answers to each section but rather the style and clarity of your code. You should aim to avoid repetition of code, have clear but concise comments and appropriately named variables.\n",
    "\n",
    "You'll get marks for correct code that does what is asked and for text based answers to particular points. We are not overly concerned with model performance but you should still aim to get the best results you can for your chosen approaches. You should make sure any figures are plotted properly with axis labels and figure legends."
   ]
  },
  {
   "cell_type": "markdown",
   "metadata": {
    "id": "cTXfi2ej7Xaw"
   },
   "source": [
    "# Imports and Datafiles"
   ]
  },
  {
   "cell_type": "code",
   "execution_count": 2,
   "metadata": {
    "id": "nmioVGIK7V5j"
   },
   "outputs": [],
   "source": [
    "import urllib.request\n",
    "import numpy as np\n",
    "import matplotlib.pyplot as plt\n",
    "\n",
    "urllib.request.urlretrieve('https://drive.usercontent.google.com/download?id=1XrXVkEfFtgA9VlU2rP4-gGdI_7-TmJ4k&export=download&authuser=0','bee_flightpaths.npy')\n",
    "dataset = np.load('bee_flightpaths.npy',allow_pickle=True)\n",
    "\n",
    "Nbases = 10 #number of bases per axis"
   ]
  },
  {
   "cell_type": "markdown",
   "metadata": {
    "id": "m5HdSa7IxePB"
   },
   "source": [
    "# Part 1: Finding the path of the bee\n",
    "\n",
    "In lectures, I briefly mentioned the problem of inferring the path of a bumblebee. For this half of the coursework you will be required to reconstruct the flight path of a series of bees!\n",
    "\n",
    "The tracking system consists of four detectors in the landscape. Each one occasionally detects the bee and records its bearing (the direction the bee is in).\n",
    "\n",
    "In the figure the detectors are marked as green circles, the true path of the bee is the red line. In this example the detectors record the direction of the bee at five times (0s, 0.9s, 1.8s, 2.7s, 3.6s). The blue lines indicate the bearing of the bee at each of those times.\n",
    "\n",
    "<img src=\"https://drive.usercontent.google.com/download?id=1IIaTWlqDuUla6tmL2usinWcOs_aJknb7&export=download&authuser=0&confirm=t&uuid=ee31fadf-4593-468f-b759-6a418767006c&at=AENtkXYQ8DcCgp1c8l__xmzCyWQp:1730720770038\" />\n",
    "\n",
    "*Flight path of the bee and the bearings from the detector from<br/>which it was observed -- notice we only get the bearing of the<br/>bee, we don't know how far away it is. Axes are in metres.*<br/><br/>\n",
    "\n",
    "The task is to try to estimate the path of the bee, given those observations.\n",
    "\n",
    "The dataset consists of 30 such flight paths (inside `dataset`). Each element e.g. `dataset[12]` is a flightpath dictionary containing:\n",
    " - `truepath`: An array of 100 points of the bee's flight over 30 seconds. This is an array $100 \\times 3$. The first column is the time, the second and third the location (x,y) of the bee. For example:\n",
    "\n",
    "```\n",
    " array([[  0.  , -43.11,  11.27],\n",
    "       [  0.3 , -43.68,   9.49],\n",
    "       [  0.61, -44.03,   7.69],\n",
    "       [  0.91, -44.15,   5.88],\n",
    "       [  1.21, -44.03,   4.07],\n",
    "            :      :        :\n",
    "```\n",
    "\n",
    " - `observations`: A $17 \\times 5$ array of 17 observations. Each row consists of the time (column 0), the location of the detector (columns 1 and 2), and a unit vector facing in the direction of the bee (columns 3 and 4).\n",
    "\n",
    "```\n",
    "array([[  0.  , -15.  , -15.  ,  -0.73,   0.68],\n",
    "       [  0.91,  15.  ,  15.  ,  -0.99,  -0.15],\n",
    "       [  1.82, -15.  ,  15.  ,  -0.89,  -0.46],\n",
    "       [  2.73,  15.  , -15.  ,  -0.98,   0.18],\n",
    "       [  3.64, -15.  ,  15.  ,  -0.62,  -0.78],\n",
    "       [  4.55,  15.  , -15.  ,  -1.  ,   0.02],\n",
    "       [  5.45, -15.  , -15.  ,  -0.89,  -0.45],\n",
    "           :     :       :         :       :\n",
    "```\n",
    "\n",
    "(as an example, the 2nd row is an observation at time 0.91s, from a detector at location [15,15], that saw the bee in the direction of [-0.99, -0.15]. One can see this is one of the observations in the figure above."
   ]
  },
  {
   "cell_type": "markdown",
   "metadata": {
    "id": "jrXmhRlxC99p"
   },
   "source": [
    "## Question 1: Plotting [3 marks]\n",
    "\n",
    "First, plot the true flightpath of the bee in `dataset[1]`. Add a marker to the plot for the location at time zero.\n"
   ]
  },
  {
   "cell_type": "code",
   "execution_count": 3,
   "metadata": {
    "colab": {
     "base_uri": "https://localhost:8080/",
     "height": 472
    },
    "executionInfo": {
     "elapsed": 1939,
     "status": "ok",
     "timestamp": 1731598340890,
     "user": {
      "displayName": "Waris Ratthapoom",
      "userId": "07979000213568698383"
     },
     "user_tz": 0
    },
    "id": "fmjyvCw9LtVh",
    "outputId": "a1b50a1a-ce76-4765-f516-6d81b3072df3"
   },
   "outputs": [
    {
     "data": {
      "image/png": "[encoded data removed]",
      "text/plain": [
       "<Figure size 640x480 with 1 Axes>"
      ]
     },
     "metadata": {},
     "output_type": "display_data"
    }
   ],
   "source": [
    "#Answer here\n",
    "x = dataset[1]['truepath'][:,1]\n",
    "y = dataset[1]['truepath'][:,2]\n",
    "# Line Plot\n",
    "plt.plot(x,y, color='orange')\n",
    "# Add a marker at time 0\n",
    "plt.plot(x[0],y[0],'o', color='brown')\n",
    "# Add text\n",
    "plt.text(x[0]+1,y[0]+0.3,'0.0 s',color='brown')\n",
    "# Configuration\n",
    "plt.xlabel('X')\n",
    "plt.ylabel('Y')\n",
    "plt.title('True Path of dataset[0]', fontweight='bold')\n",
    "plt.grid()\n",
    "plt.show()"
   ]
  },
  {
   "cell_type": "markdown",
   "metadata": {
    "id": "r6jVHMOvDwDD"
   },
   "source": [
    "## Judging a prediction\n",
    "\n",
    "Later we will make some predictions for the flight path of the bee: I.e. for a given time point we will predict the bee's location. Before we do that we first need a way of judging how good the prediction is: We need to write down an expression for how likely an observation was given that predicted location:\n",
    "\n",
    "$p\\Big(\\text{observation at time}\\;t\\;\\Big|\\;\\text{position at time}\\;t\\Big)$\n",
    "\n",
    "If you think back to the lecture, this is the likelihood and the '$\\text{position at time}\\;t$' is our model's prediction.\n",
    "\n",
    "To be more specific we need a function that gives us the **negative log likelihood**: The negative log probability of an observation given the bee is in a particular location.\n",
    "\n",
    "Let's think about what this means.\n",
    "\n",
    "- We are given (a prediction for) the location of the bee, e.g. `p = np.array([9.2, 10.1])`.\n",
    "- We are also given a row of our observation array, e.g. `obs = np.array([23, 5, 5, 0.707, 0.707])`.\n",
    "\n",
    "We want to write an expression that basically tells us how bad this fit is.\n",
    "\n",
    "Let's plot these to help us understand the task:"
   ]
  },
  {
   "cell_type": "code",
   "execution_count": 4,
   "metadata": {
    "colab": {
     "base_uri": "https://localhost:8080/",
     "height": 430
    },
    "executionInfo": {
     "elapsed": 668,
     "status": "ok",
     "timestamp": 1731598341554,
     "user": {
      "displayName": "Waris Ratthapoom",
      "userId": "07979000213568698383"
     },
     "user_tz": 0
    },
    "id": "ayjPHXWHFUEc",
    "outputId": "01ca5b17-622e-4b62-80a3-899c4293b60d"
   },
   "outputs": [
    {
     "data": {
      "image/png": "[encoded data removed]",
      "text/plain": [
       "<Figure size 640x480 with 1 Axes>"
      ]
     },
     "metadata": {},
     "output_type": "display_data"
    }
   ],
   "source": [
    "p = np.array([9.2, 10.1])\n",
    "ob = np.array([23, 5, 5, 0.707, 0.707])\n",
    "plt.plot(p[0],p[1],'xr')\n",
    "plt.text(p[0]+0.2,p[1]-0.3,'model\\'s guess for\\nlocation of bee',color='red')\n",
    "plt.plot(ob[1],ob[2],'og')\n",
    "plt.text(ob[1]+0.3,ob[2],'detector\\'s location',color='green')\n",
    "plt.plot([ob[1],ob[1]+5*ob[3]],[ob[2],ob[2]+5*ob[4]],'b-')\n",
    "plt.text(ob[1]+3.3*ob[3],ob[2]+3*ob[4],'bearing of bee',color='blue')\n",
    "plt.axis('equal')\n",
    "plt.xlim([4,13])\n",
    "plt.grid()"
   ]
  },
  {
   "cell_type": "markdown",
   "metadata": {
    "id": "NppXAwwVGdOf"
   },
   "source": [
    "we can see that the observation is fairly consistent with the model's prediction, but isn't perfect. The predicted bee location is a little to the left of the observed direction.\n",
    "\n",
    "## Question 2: Developing the function for the negative log likelihood [2 marks]\n",
    "\n",
    "We need a way of assigning a probability to this observation given the prediction location.\n",
    "\n",
    "To this end, the negative log likelihood function will:\n",
    "\n",
    "1. Compute a unit vector, `u`, pointing in the direction of the predicted location of the bee relative to the detector. Remember for one of the observations `ob[1:3]` contains the location of the detector. We define another variable `p`, that contains the bee's predicted location. Think about how you might code this.\n",
    "2. Note that we now have two unit vectors. `ob[3:5]` pointing in the observed direction of the bee, and `u`, pointed in the direction of the predicted location. *The difference between these two vectors tells us how good the prediction is*. We therefore need to compute the difference between these two vectors: Subtract one from another, and then we will find the length, $l$, of the resulting vector. If this vector is shorter it means we have a better match between the model prediction and the observation.\n",
    "3.  We will assume our observations are corrupted by some independent Gaussian noise. I.e. the $l$ of this 'error vector' is from a Gaussian distribution, with mean zero, and some noise variance $\\sigma^2$. So the probability of $l$ (ignoring constant factors) is,\n",
    "\n",
    "$$p(l) \\sim N(l|0,\\sigma^2) \\propto \\text{exp}\\left(\\frac{-l^2}{2\\sigma^2}\\right)$$\n",
    "\n",
    "We need to compute the negative log probability.\n",
    "\n",
    "Question 2: Write down the negative log probability (ignoring constant terms), i.e.\n",
    "$$-\\log_e \\big(p(l) \\big)$$\n",
    "\n",
    "(hint: try substituting in the expression for $p(l)$ into this expression)"
   ]
  },
  {
   "cell_type": "markdown",
   "metadata": {
    "id": "TiwiKWTbJeOJ"
   },
   "source": [
    "**[answer here]**\n",
    "\n",
    "**Step 1:** Compute a unit vector from predicted location and detector location\n",
    "$$ u = \\frac{\\vec{Prediction} - \\vec{Detector}}{||\\vec{Prediction} - \\vec{Detector}||} = \\frac{(X_p - X_d)\\vec{i} + (Y_p - Y_d)\\vec{j}}{\\sqrt{(X_p - X_d)^2 + (Y_p - Y_d)^2 }}$$\n",
    "**Step 2:** Find the length $l$ from the unit vector and bearing vector\n",
    "$$ \\vec{l} = \\vec{u} - \\vec{b}$$\n",
    "$$ l = \\sqrt{(X_u - X_b)^2 + (Y_u - Y_b)^2 }$$\n",
    "<u>In Matrix Form:</u>\n",
    "\n",
    "$$ l = (\\mathbf{(\\mathbf{u} - \\mathbf{b})^T} \\times \\mathbf{(\\mathbf{u} - \\mathbf{b}))^{\\frac{1}{2}}} $$\n",
    "\n",
    "**Step 3:** Calculate the negative log likelihood\n",
    "$$ -\\log_e \\big(p(l) \\big) = -\\log_e \\big({exp}\\left(\\frac{-l^2}{2\\sigma^2}\\right)\\big) $$\n",
    "$$ -\\log_e \\big(p(l) \\big) = -\\big(\\frac{-l^2}{2\\sigma^2}\\big) $$\n",
    "$$ -\\log_e \\big(p(l) \\big) = \\frac{l^2}{2\\sigma^2} $$\n",
    "<u>In Matrix Form:</u>\n",
    "\n",
    "$$ -\\log_e \\big(p(l) \\big) = \\frac{\\mathbf{L^T} \\times \\mathbf{L}}{2\\sigma^2} $$\n"
   ]
  },
  {
   "cell_type": "markdown",
   "metadata": {
    "id": "rvHI5JLPgKLP"
   },
   "source": [
    "(Side Note: It is important that the likelihood function integrates to one (or at least a fixed constant) over the domain of possible observations. This is difficult to quantify exactly in many cases. We won't worry about it for this coursework).\n"
   ]
  },
  {
   "cell_type": "markdown",
   "metadata": {
    "id": "An1MNHgjKAss"
   },
   "source": [
    "## Question 3: Coding the negative log likelihood [4 marks]\n",
    "\n",
    "We now need to implement the above steps. Complete the method below.\n",
    "\n",
    "(Hint: For each of the steps 1-3, you will need to write one or two lines inside this method).\n",
    "\n",
    "Please use the expression you devised above for the **unnormalised** negative log probability."
   ]
  },
  {
   "cell_type": "code",
   "execution_count": 5,
   "metadata": {
    "id": "LatTRyn3PxxH"
   },
   "outputs": [
    {
     "name": "stderr",
     "output_type": "stream",
     "text": [
      "<>:2: SyntaxWarning: invalid escape sequence '\\s'\n",
      "<>:2: SyntaxWarning: invalid escape sequence '\\s'\n",
      "/var/folders/tx/6718jl_937qg03h108680hc00000gn/T/ipykernel_2536/3804457275.py:2: SyntaxWarning: invalid escape sequence '\\s'\n",
      "  \"\"\"Computes the negative log likelihood for ONE observation\n"
     ]
    }
   ],
   "source": [
    "def negloglikelihood(ob,p,noise_scale=0.1):\n",
    "  \"\"\"Computes the negative log likelihood for ONE observation\n",
    "    and ONE model's position prediction.\n",
    "\n",
    "    Parameters\n",
    "    ----------\n",
    "    ob : (5,) array_like\n",
    "        A 1d array describing an observation. Contains:\n",
    "          [time,detectorx,detectory,bearingx,bearingy]\n",
    "    p : (2,) array_like\n",
    "        A 1d array describing a model's position prediction. Contains:\n",
    "          [x,y]\n",
    "    noise_scale : float, optional\n",
    "        The standard deviation (\\sigma) of the Gaussian noise distribution over the\n",
    "        length of the vector between the unit vector pointing at the observed\n",
    "        bee and the unit vector pointing at the predicted bee location.\n",
    "\n",
    "    Returns\n",
    "    -------\n",
    "    float\n",
    "        The negative log probability of the observation given the\n",
    "        model's prediction, i.e.\n",
    "\n",
    "                     --log p(ob|p)\n",
    "    \"\"\"\n",
    "  # Define a function to calculate the magnitude of a vector\n",
    "  def calculate_magnitude(x, y):\n",
    "    return np.sqrt(x**2 + y**2)\n",
    "  # Step 1: Calculate the unit vector from predicted location and detector location\n",
    "  X_p , X_d , Y_p , Y_d = p[0], ob[1], p[1], ob[2]\n",
    "  u_magnitude = calculate_magnitude(X_p - X_d, Y_p - Y_d)\n",
    "  u = np.array([(X_p - X_d) / u_magnitude, (Y_p - Y_d) / u_magnitude])\n",
    "  # Step 2: Calculate the length of the vector from unit vector and bearings\n",
    "  l = u - ob[3:5]\n",
    "  # Step 3: Return the negative log likelihood\n",
    "  return (l.T @ l) / (2 * noise_scale**2)\n"
   ]
  },
  {
   "cell_type": "markdown",
   "metadata": {
    "id": "em99ddIFMp7R"
   },
   "source": [
    "## Question 4: Check your solution [3 marks]\n",
    "\n",
    "You should check your method is correct! As a simple check, let's consider a prediction that the bee is at position [50,30], and was detected by a detector\n",
    "as [10,0], in unit vector direction [1,0].\n",
    "\n",
    "Question 4: **Compute by hand:**\n",
    "\n",
    "- the unit vector facing in the predicted direction of the bee from the detector\n",
    "- the difference \"error vector\" between this vector and the unit vector pointing in the observed direction.\n",
    "- the squared length of this \"error vector\".\n",
    "- use this to compute the **unnormalised** negative log likelihood, with value of $\\sigma=0.1$.\n",
    "\n",
    "The answer should be 20.\n",
    "\n",
    "You have two tasks,\n",
    "\n",
    "- Q4a) Compute this by hand as described to check your answer.\n",
    "- Q4b) Test that your `negloglikelihood` method also computed it as 20, by passing it the appropriate parameters.\n",
    "\n",
    "*Hint 1: The most tricky bit will be writing the 5 elements in for the observation array, remember it needs to be of the form `np.array([time,detectorx,detectory,bearingx,bearingy])`. The 'time' element doesn't affect the result, so just put anything in for time.*\n",
    "\n",
    "*Hint 2: You might get an error like `UFuncTypeError: Cannot cast ufunc 'divide' output from dtype('float64') to dtype('int64') with casting rule 'same_kind'`, this will happen if you build your array with integers and later try to overwrite one with a float. Numpy might have an issue with entering floats into an integer array. The easiest fix is to replace e.g. `10` with `10.0` when creating the array.*"
   ]
  },
  {
   "cell_type": "markdown",
   "metadata": {
    "id": "d7D5CaY2P6B4"
   },
   "source": [
    "**[Answer here]**\n",
    "\n",
    "```\n",
    "4a) Write down the calculation you have done by hand, step by step, here.\n",
    "```"
   ]
  },
  {
   "cell_type": "markdown",
   "metadata": {
    "id": "5x14hR0DTUFc"
   },
   "source": [
    "**Given by the question:**\n",
    "\n",
    "Predicted Location: $ X_p = 50 $, $ Y_p = 30 $\n",
    "\n",
    "Detector Location: $ X_d = 10 $, $ Y_d = 0 $\n",
    "\n",
    "Bearing Vector: $ X_b = 1 $, $ Y_b = 0 $\n",
    "\n",
    "$\\sigma=0.1$\n",
    "\n",
    "**Step 1:** Compute a unit vector from predicted location and detector location\n",
    "$$ u = \\frac{(X_p - X_d)\\vec{i} + (Y_p - Y_d)\\vec{j}}{\\sqrt{(X_p - X_d)^2 + (Y_p - Y_d)^2 }} $$\n",
    "$$ u = \\frac{(50 - 10)\\vec{i} + (30 - 0)\\vec{j}}{\\sqrt{(50 - 10)^2 + (30 - 0)^2 }} $$\n",
    "$$ u = \\frac{40\\vec{i} + 30\\vec{j}}{50} $$\n",
    "$$ u = 0.8\\vec{i} + 0.6\\vec{j} $$\n",
    "**Step 2:** Find the length $l$ from the unit vector and bearing vector\n",
    "$$ l = \\sqrt{(X_u - X_b)^2 + (Y_u - Y_b)^2 } $$\n",
    "$$ l = \\sqrt{(0.8 - 1)^2 + (0.6 - 0)^2 } $$\n",
    "$$ l \\approx 0.63245 $$\n",
    "**Step 3:** Calculate the negative log likelihood\n",
    "$$ -\\log_e \\big(p(l) \\big) = \\frac{l^2}{2\\sigma^2} $$\n",
    "$$ -\\log_e \\big(p(l) \\big) = \\frac{0.63245^2}{2(0.1)^2} $$\n",
    "$$ -\\log_e \\big(p(l) \\big) \\approx 20 $$"
   ]
  },
  {
   "cell_type": "code",
   "execution_count": 6,
   "metadata": {
    "colab": {
     "base_uri": "https://localhost:8080/"
    },
    "executionInfo": {
     "elapsed": 8,
     "status": "ok",
     "timestamp": 1731598341554,
     "user": {
      "displayName": "Waris Ratthapoom",
      "userId": "07979000213568698383"
     },
     "user_tz": 0
    },
    "id": "2WZFkL4HTUFc",
    "outputId": "6940aa4b-2464-4c28-af6e-c174d35a483d"
   },
   "outputs": [
    {
     "data": {
      "text/plain": [
       "19.999999999999993"
      ]
     },
     "execution_count": 6,
     "metadata": {},
     "output_type": "execute_result"
    }
   ],
   "source": [
    "#Q4b) Check for the above example negloglikelihood returns about 20.\n",
    "# You need to write something like, negloglikelihood(5_element_observation_array_here,2_element_predicted_location_array_here)\n",
    "# Hint: It might not give exactly 20, but 19.99999 would be fine!\n",
    "#[answer here]\n",
    "ob = np.array([0, 10.0, 0, 1.0, 0])\n",
    "p = np.array([50.0, 30.0])\n",
    "negloglikelihood(ob, p)"
   ]
  },
  {
   "cell_type": "markdown",
   "metadata": {
    "id": "eJAfk2RKWcNN"
   },
   "source": [
    "## Linear regression\n",
    "\n",
    "To make our predictions we need to predict the $x$ coordinate and the $y$ coordinate of the bee over time.\n",
    "\n",
    "To do this we will use linear regression (but note that our likelihood function is not going to be amenable to a closed form solution).\n",
    "\n",
    "We will use a Gaussian basis, and predict the location along each axis separately -- i.e. one regression problem will be 'what is x at time t?' and the other is 'what is y at time t?'"
   ]
  },
  {
   "cell_type": "markdown",
   "metadata": {
    "id": "0qK4mc2cQdnv"
   },
   "source": [
    "## Question 5: Prediction function [4 marks]\n",
    "\n",
    "For our linear regression prediction we have a set of B=10 Gaussian bases centred at times $c_b = -3, 1, 5, 9,...,25, 29, 33$, each with a width hyperparameter of $\\alpha=3$. We have a set of parameters, $\\textbf{w}$, that we will later need to fit. The prediction at a time $t$ will equal:\n",
    "\n",
    "$$ \\sum_{b=1}^B w_b \\;\\text{exp}\\Big(-\\frac{(t-c_b)^2}{2 \\alpha^2}\\Big)$$\n",
    "\n",
    "Write a function that takes a list of N times, e.g. `T = [1,2,3.5,4.5,6]` and a list of B parameters, e.g. `w = [1.2, -3.1, 4.5]` and returns the N predictions associated with those times.\n",
    "\n",
    "*Hint: You could use `basis_centres = np.arange(-3,34,4)` to get a numpy array of the locations of the basis centres.*"
   ]
  },
  {
   "cell_type": "code",
   "execution_count": 7,
   "metadata": {
    "id": "cMlxj4bLUVXw"
   },
   "outputs": [],
   "source": [
    "def getpred(T,w,width=3):\n",
    "  \"\"\"Computes a prediction using linear regression and 10 Gaussian bases, each\n",
    "     is centred at -3,1,5,9...25,29,33 seconds. They have a width specified by\n",
    "     the `width` parameter.\n",
    "\n",
    "    Parameters\n",
    "    ----------\n",
    "    T : (N,) array_like\n",
    "        A 1d array of times (in seconds) to make the predictions.\n",
    "    w : (16,) array_like\n",
    "        A 1d array of the 16 parameters (the weights that each basis function\n",
    "           is scaled by.\n",
    "    width : float, optional\n",
    "        The width of each Gaussian basis function (default = 3 seconds).\n",
    "\n",
    "    Returns\n",
    "    -------\n",
    "    (N,) array_like\n",
    "        The prediction for each time point in T, i.e.\n",
    "\n",
    "                     sum_b w_b exp(-(t-c_b)^2/(alpha^2))\n",
    "\n",
    "        where each c_b is the time at the centre of each basis.\n",
    "    \"\"\"\n",
    "  # Answer here\n",
    "  basis_centres = np.arange(-3,34,4)\n",
    "  # Gaussian Formula\n",
    "  X = np.exp(-0.5 * ((T.reshape(-1,1) - basis_centres)**2 / width**2))\n",
    "  return X @ w"
   ]
  },
  {
   "cell_type": "markdown",
   "metadata": {
    "id": "bQTm5vpOUg-k"
   },
   "source": [
    "### Test your prediction function...\n",
    "\n",
    "Here's a couple of tests to let you check if your code is correct."
   ]
  },
  {
   "cell_type": "code",
   "execution_count": 8,
   "metadata": {
    "id": "8SFTyAM3UghI"
   },
   "outputs": [],
   "source": [
    "#We use 'assert' to check that your method produces the right answers...\n",
    "\n",
    "# if we pick a time exactly on the centre of a basis, with all the other bases\n",
    "# equal to zero we should get that value...\n",
    "testw = np.zeros(10)\n",
    "testw[4] = 3.0 #this is for the basis at t=13\n",
    "assert getpred(np.array([13]),testw)[0]==3.0\n",
    "\n",
    "#if we take a point between two of our bases, each basis will contribute\n",
    "#np.exp(-2**2/(2*3**2)) to the points value, so if we set all the other bases\n",
    "#to zero, we would expect the point to equal:\n",
    "#    np.exp(-2**2/(2*3**2))*(sum_of_the_two_bases)\n",
    "testw = np.zeros(10)\n",
    "testw[4] = 4.0 #basis at t=13\n",
    "testw[5] = 6.0 #basis at t=17\n",
    "prediction = getpred(np.array([15]),testw)[0] #15 is mid point\n",
    "assert np.abs(np.exp(-2**2/(2*3**2))*(4+6)-prediction)<0.01\n",
    "\n",
    "#test again with a change in the width of the gaussians.\n",
    "testw = np.zeros(10)\n",
    "testw[4] = 4.0 #basis at t=13\n",
    "testw[5] = 6.0 #basis at t=17\n",
    "prediction = getpred(np.array([0,15]),testw,width=4) #15 is mid point\n",
    "assert np.abs(np.exp(-2**2/(2*4**2))*(4+6)-prediction[1])<0.01\n",
    "assert np.abs(0.02-prediction[0])<0.01 #this is far from these basis fns so should be about zero."
   ]
  },
  {
   "cell_type": "markdown",
   "metadata": {
    "id": "qs9ZcwrNWXVH"
   },
   "source": [
    "We can produce a 2d array of prediction locations by doing two lots of regression to predict the x coordinate and to predict the y coordinate.\n",
    "\n",
    "Here we use some random values for the 20 parameters (10 for each coordinate axis)."
   ]
  },
  {
   "cell_type": "code",
   "execution_count": 9,
   "metadata": {
    "colab": {
     "base_uri": "https://localhost:8080/",
     "height": 448
    },
    "executionInfo": {
     "elapsed": 824,
     "status": "ok",
     "timestamp": 1731598342373,
     "user": {
      "displayName": "Waris Ratthapoom",
      "userId": "07979000213568698383"
     },
     "user_tz": 0
    },
    "id": "vAPRs8dcYD-g",
    "outputId": "854db7bc-68dc-43c5-aa0e-d79f6247d4e3"
   },
   "outputs": [
    {
     "data": {
      "text/plain": [
       "[<matplotlib.lines.Line2D at 0x10f19e120>]"
      ]
     },
     "execution_count": 9,
     "metadata": {},
     "output_type": "execute_result"
    },
    {
     "data": {
      "image/png": "[encoded data removed]",
      "text/plain": [
       "<Figure size 640x480 with 1 Axes>"
      ]
     },
     "metadata": {},
     "output_type": "display_data"
    }
   ],
   "source": [
    "np.random.seed(1)\n",
    "pred_t = np.linspace(0,30,100) #times to predict for... (100 points from 0s to 30s)\n",
    "\n",
    "#we use Nbases*2 (=20) parameters (10 for the x-axis regression, 10 for the y-axis regression)\n",
    "example_w = 10*np.random.randn(Nbases*2) #randomly sample some parameters.\n",
    "\n",
    "x_predictions = getpred(pred_t,example_w[:Nbases]) #uses first 10 parameters in 'example_w' to predict x location over time\n",
    "y_predictions = getpred(pred_t,example_w[Nbases:]) #uses last 10 parameters in 'example_w' to predict y location over time\n",
    "\n",
    "#concantenate the two vectors into an array of Nx2 coordinates.\n",
    "predpath = np.array([x_predictions,y_predictions]).T\n",
    "\n",
    "#plot this path\n",
    "plt.plot(predpath[:,0],predpath[:,1],'.-')"
   ]
  },
  {
   "cell_type": "markdown",
   "metadata": {
    "id": "e1cXhSUrZjzJ"
   },
   "source": [
    "Note, rather than write out `dataset[1]['observations']` we save it in `obs` for convenience.\n",
    "\n",
    "In the next step, we will want to try to fit our observations. To do this **we will first need to compute the predicted location at each of the times we observed the bee**. Those times are in the first column of `obs`, i.e.: `obs[:,0]`; the 'time' column in the observation vector."
   ]
  },
  {
   "cell_type": "code",
   "execution_count": 10,
   "metadata": {
    "id": "_evjBN1cX7xd"
   },
   "outputs": [],
   "source": [
    "obs = dataset[1]['observations']\n",
    "truepath = dataset[1]['truepath']"
   ]
  },
  {
   "cell_type": "code",
   "execution_count": 11,
   "metadata": {
    "colab": {
     "base_uri": "https://localhost:8080/",
     "height": 448
    },
    "executionInfo": {
     "elapsed": 1191,
     "status": "ok",
     "timestamp": 1731598343562,
     "user": {
      "displayName": "Waris Ratthapoom",
      "userId": "07979000213568698383"
     },
     "user_tz": 0
    },
    "id": "EHv1VkaPWXFc",
    "outputId": "e6510550-6323-4d27-9feb-386e6111f02e"
   },
   "outputs": [
    {
     "data": {
      "text/plain": [
       "<matplotlib.legend.Legend at 0x10f1c76b0>"
      ]
     },
     "execution_count": 11,
     "metadata": {},
     "output_type": "execute_result"
    },
    {
     "data": {
      "image/png": "[encoded data removed]",
      "text/plain": [
       "<Figure size 640x480 with 1 Axes>"
      ]
     },
     "metadata": {},
     "output_type": "display_data"
    }
   ],
   "source": [
    "np.random.seed(1)\n",
    "\n",
    "example_w = 10*np.random.randn(Nbases*2) #again, we'll use random parameter values\n",
    "\n",
    "#!!!!!!!hint the next line might be useful later...!!!!!!!#\n",
    "#we predict the path for the times we made observations...\n",
    "#predpath is an Nx2 array of predicted locations (each row is the x,y coordinate\n",
    "#at the times in obs[:,0]).\n",
    "predpath = np.array([getpred(obs[:,0],example_w[:Nbases]),getpred(obs[:,0],example_w[Nbases:])]).T\n",
    "\n",
    "plt.plot(predpath[:,0],predpath[:,1],'.-b',label='predicted path')\n",
    "plt.plot(truepath[:,1],truepath[:,2],'-r',label='true path')\n",
    "\n",
    "#just plot first 7 observation vectors to illustrate...\n",
    "for ob in obs[:7]:\n",
    "  r = np.sqrt(np.sum((truepath[np.argmin(np.abs(truepath[:,0]-ob[0])),1:3]-ob[1:3])**2))\n",
    "\n",
    "  plt.plot([ob[1],ob[1]+ob[3]*r],[ob[2],ob[2]+ob[4]*r],'b-',alpha=0.2)\n",
    "  plt.plot(ob[1],ob[2],'og')\n",
    "plt.axis('equal')\n",
    "plt.grid()\n",
    "plt.legend()"
   ]
  },
  {
   "cell_type": "markdown",
   "metadata": {
    "id": "bNeT8LYf5aiP"
   },
   "source": [
    "This is obviously a poor fit at the moment as we used random values for our parameters. Let's look at how we can improve them.\n",
    "\n",
    "I've also plotted the locations of the detectors and the first 7 observations, projected to the points on the true path where the bee was. Remember the observations only have the bearing (direction) of the bee, not the distance, so to estimate the path we need to combine the observations from the different detectors."
   ]
  },
  {
   "cell_type": "markdown",
   "metadata": {
    "id": "pw8WTq3DaLI3"
   },
   "source": [
    "## Question 6: Total Negative Log Likelihood [4 marks]\n",
    "\n",
    "For a given parameter vector, `w`, and observation array `obs` what is the TOTAL negative log likelihood (over all the observations in `obs`).\n",
    "\n",
    "We will assume that the Gaussian noise in our model is independent between observations.\n",
    "\n",
    "Your task:\n",
    "\n",
    "- You need to find the negative log likelihood for each observation by calling `negloglikelihood` with parameters:\n",
    "\n",
    "   - each row of `obs`\n",
    "   - the associated predicted location at the time of the observation.\n",
    "   - the `noise_scale` hyperparameter parameter.\n",
    "\n",
    "- Add these negative log likelihoods together.\n",
    "\n",
    "- Add an L2 regularisation penalty term to the negative log likelihood.\n",
    "\n",
    "In summary, for each observation, `ob` (one row of `obs`), you need to know the predicted location `p` (see hint in the previous code block how to get the predicted path for each observation time - you could take each row from this path as a predicted location, `p`). Using this you need to compute `negloglikelihood(ob,p,noise_scale)`. Finally you need to add to this the L2 regularisation term. Remember to compute the L2 regularisation you need to find the sum of the squares of the values in `w`. This sum needs to be multiplied by the `reg` parameter. See the regularisation term at end of this expression.\n",
    "\n",
    "$$\\sum_{i=1}^N \\text{NLL}(\\text{ob}_i|p_i,\\sigma^2) + \\lambda \\sum_{b=1}^B w_b^2$$\n",
    "\n",
    "$\\lambda$ is the `reg` parameter that controls how much regularisation to do.\n",
    "\n",
    "*__Side Note__: Regularisation is the equivalent of putting a prior on our model, and we are therefore really optimising the posterior, and thus this is Maximum a posteriori (MAP) estimation rather than maximum likelihood. You need not worry about this distinction for this coursework!*\n",
    "\n",
    "*__Hint__: The expression above for `predpath` will be useful here...!*\n",
    "\n",
    "<br/>\n",
    "\n",
    "Question 6: Code the `totalnegloglikelihood` method:"
   ]
  },
  {
   "cell_type": "code",
   "execution_count": 12,
   "metadata": {
    "id": "-sKU0Nltau31"
   },
   "outputs": [
    {
     "name": "stderr",
     "output_type": "stream",
     "text": [
      "<>:2: SyntaxWarning: invalid escape sequence '\\l'\n",
      "<>:2: SyntaxWarning: invalid escape sequence '\\l'\n",
      "/var/folders/tx/6718jl_937qg03h108680hc00000gn/T/ipykernel_2536/24945376.py:2: SyntaxWarning: invalid escape sequence '\\l'\n",
      "  \"\"\"\n"
     ]
    }
   ],
   "source": [
    "def totalnegloglikelihood(w,obs,reg=0.001,noise_scale=0.1):\n",
    "  \"\"\"\n",
    "  Computes the total negative log likelihood for the given weight, using the observations\n",
    "  in `obs` and with the hyperparameters reg (regularisation) and noise_scale.\n",
    "\n",
    "  Parameters\n",
    "  ----------\n",
    "  w : (32,) array_like\n",
    "      A 1d array of the 32 parameters (the weights that each basis function\n",
    "      is scaled by.\n",
    "\n",
    "  obs : (N, 5) array_like\n",
    "      A 2d array of the N observations. Each row of this array contains:\n",
    "        [time,detectorx,detectory,bearingx,bearingy]\n",
    "\n",
    "  reg : float, optional\n",
    "      The regularisation parameter (\\lambda in the equation above).\n",
    "\n",
    "  noise_scale : float, optional\n",
    "      The standard deviation (\\sigma) of the Gaussian noise distribution.\n",
    "  Returns\n",
    "  -------\n",
    "  float :\n",
    "      The total negative log likelihood for the given parameters, summed over\n",
    "      all the observations in obs; plus the L2 regularisation term (scaled by `reg`).\n",
    "  \"\"\"\n",
    "\n",
    "  #Answer here\n",
    "  sum_NLL = 0\n",
    "  p = np.array([getpred(obs[:,0],w[:Nbases]),getpred(obs[:,0],w[Nbases:])]).T\n",
    "  # Loop through all the rows in obs\n",
    "  for i in range(obs.shape[0]):\n",
    "      sum_NLL += negloglikelihood(ob=obs[i,:],p=p[i,:],noise_scale=noise_scale)\n",
    "\n",
    "  return sum_NLL + reg*(w.T @ w)"
   ]
  },
  {
   "cell_type": "markdown",
   "metadata": {
    "id": "rlawsfDIbVKa"
   },
   "source": [
    "## Testing the total negative log likelihood code\n",
    "\n",
    "This section lets you check your implementation produces the right answers."
   ]
  },
  {
   "cell_type": "code",
   "execution_count": 13,
   "metadata": {
    "id": "G0WcX6qTbUJD"
   },
   "outputs": [],
   "source": [
    "#again, using asserts to check you have the right answers...\n",
    "\n",
    "#I reproduce an earlier test.\n",
    "#a detector at position [10,0], observes bee in direction [1,0] at time 1\n",
    "#and again, in the same place at time 17.\n",
    "obs = np.array([[1,10,0,1,0],[17,10,0,1,0]])\n",
    "\n",
    "#for testing we set all parameters to zero, except two, this should place\n",
    "#the predicted bee (at time zero) at [50,30]...\n",
    "testw = np.zeros(20)\n",
    "testw[1] = 50.0\n",
    "testw[11] = 30.0\n",
    "testw[5] = 50.0\n",
    "testw[15] = 30.0\n",
    "\n",
    "#we computed the likelihood earlier for each of these observations should be\n",
    "#about 20. With the regularisation (0.001*(50^2+30^2)) they should each be 23.4.\n",
    "#So their sum should be about 46.8.\n",
    "assert np.abs(totalnegloglikelihood(testw,obs,reg=0.001)-46.8)<0.001"
   ]
  },
  {
   "cell_type": "markdown",
   "metadata": {
    "id": "vbYLpGTKczEJ"
   },
   "source": [
    "## Optimising the parameters\n",
    "\n",
    "Ideally we would used an auto-diff framework (we will next) but for now we can optimise the parameters using scipy...\n",
    "\n",
    "Using the `minimize` method we find the vector of parameters that minimises the total negative log likelihood."
   ]
  },
  {
   "cell_type": "code",
   "execution_count": 14,
   "metadata": {
    "colab": {
     "base_uri": "https://localhost:8080/"
    },
    "executionInfo": {
     "elapsed": 3167,
     "status": "ok",
     "timestamp": 1731598346727,
     "user": {
      "displayName": "Waris Ratthapoom",
      "userId": "07979000213568698383"
     },
     "user_tz": 0
    },
    "id": "v6HJtxSEYk6m",
    "outputId": "92b07eb9-2b8d-4029-a8f7-de8d08f6c6b0"
   },
   "outputs": [
    {
     "name": "stdout",
     "output_type": "stream",
     "text": [
      "[ -9.01148584 -22.58874933 -13.43299133   3.03967932  16.95479748\n",
      "   8.5229017   15.41772211  -0.98998296 -16.62886479  -4.44362133\n",
      "  11.16406693   5.88805553  -5.3161437   -8.55543468  -6.4415331\n",
      "   5.66252773  11.26940816   9.32546785   7.75604402   2.80610271]\n"
     ]
    }
   ],
   "source": [
    "from scipy.optimize import minimize\n",
    "\n",
    "#start with random location\n",
    "ws0 = np.random.randn(Nbases*2)\n",
    "\n",
    "#we'll use dataset[1]'s observations..\n",
    "obs = dataset[1]['observations']\n",
    "\n",
    "res = minimize(totalnegloglikelihood,ws0,args=(obs,0.001,0.1))\n",
    "print(res.x)"
   ]
  },
  {
   "cell_type": "markdown",
   "metadata": {
    "id": "Vwkhny5e8oWT"
   },
   "source": [
    "## Question 7: Plotting the results [4 marks]\n",
    "\n",
    "Predict the path for 100 evenly spaced time points between 0 to 30, and plot the predicted path. On the same graph plot the true path, available in `dataset[1]['truepath']`."
   ]
  },
  {
   "cell_type": "code",
   "execution_count": 15,
   "metadata": {
    "colab": {
     "base_uri": "https://localhost:8080/",
     "height": 490
    },
    "executionInfo": {
     "elapsed": 1415,
     "status": "ok",
     "timestamp": 1731598348139,
     "user": {
      "displayName": "Waris Ratthapoom",
      "userId": "07979000213568698383"
     },
     "user_tz": 0
    },
    "id": "LVxU5vZW7ry_",
    "outputId": "f6b2b6d6-4898-4574-9a51-af6583970328"
   },
   "outputs": [
    {
     "data": {
      "text/plain": [
       "<matplotlib.legend.Legend at 0x10f21d100>"
      ]
     },
     "execution_count": 15,
     "metadata": {},
     "output_type": "execute_result"
    },
    {
     "data": {
      "image/png": "[encoded data removed]",
      "text/plain": [
       "<Figure size 640x480 with 1 Axes>"
      ]
     },
     "metadata": {},
     "output_type": "display_data"
    }
   ],
   "source": [
    "#Answer here\n",
    "np.random.seed(1)\n",
    "\n",
    "t = np.linspace(0,30,100)\n",
    "truepath = dataset[1]['truepath']\n",
    "\n",
    "# Predict the path\n",
    "predpath = np.array([getpred(t,res.x[:Nbases]),getpred(t,res.x[Nbases:])]).T\n",
    "\n",
    "# Plot\n",
    "plt.plot(predpath[:,0],predpath[:,1],'.-', color='purple',label='predicted path')\n",
    "plt.plot(truepath[:,1],truepath[:,2],'-g',label='true path')\n",
    "\n",
    "# Add Annotations for t=0 and t=30\n",
    "plt.text(predpath[0,0]+1,predpath[0,1]-0.5,'0.0 s',color='brown')\n",
    "plt.text(predpath[-1,0]+1,predpath[-1,1]-0.5,'30.0 s',color='brown')\n",
    "\n",
    "plt.title('Prediction vs. True Path for Time Points from 0 to 30', fontweight='bold')\n",
    "plt.axis('equal')\n",
    "plt.xlabel('X')\n",
    "plt.ylabel('Y')\n",
    "plt.grid()\n",
    "plt.legend()"
   ]
  },
  {
   "cell_type": "markdown",
   "metadata": {
    "id": "DGA9aPjf4R6X"
   },
   "source": [
    "## Question 8: Optimising the hyperparameters [6 marks]\n",
    "\n",
    "- Do a grid search over the regularisation and the noise_scale hyperparameters.\n",
    "- Select appropriate ranges (consider if linear or log ranges would be best).\n",
    "- For each configuration of hyperparameters,\n",
    "  - Loop over the first five datasets in `dataset`.\n",
    "  - Optimise the parameters for each dataset.\n",
    "  - We will be comparing the predictions with the values in `dataset[i]['truepath']`. The first column contains the time, so you will need to call `getpred` with `dataset[i]['truepath'][:,0]` as the times to get predictions for. The last two columns are the x, y coordinates.\n",
    "  - Compute the sum squared error of all these predictions (i.e. simply find the sum squared difference between the predicted locations values and the true path, something like: `np.sum((ds['truepath'][:,1:]-preds)**2)`\n",
    "  - Record the sum squared error for each configuration of hyperparameters.\n",
    "- Report the hyperparamters that minimise this sum squared error."
   ]
  },
  {
   "cell_type": "code",
   "execution_count": 16,
   "metadata": {
    "colab": {
     "base_uri": "https://localhost:8080/"
    },
    "executionInfo": {
     "elapsed": 78248,
     "status": "ok",
     "timestamp": 1731598426383,
     "user": {
      "displayName": "Waris Ratthapoom",
      "userId": "07979000213568698383"
     },
     "user_tz": 0
    },
    "id": "6EVN0PFc6ttl",
    "outputId": "e9000672-cf8c-43ce-c9d3-4b24c5ba1e7e"
   },
   "outputs": [
    {
     "name": "stdout",
     "output_type": "stream",
     "text": [
      "Best Parameters = {'regularisation': '0.0001', 'noise_scale': '0.1'}\n",
      "Best Score = 341.1881276890098\n"
     ]
    }
   ],
   "source": [
    "# Answer here\n",
    "np.random.seed(1)\n",
    "w = np.random.randn(Nbases*2)\n",
    "count = 1\n",
    "error = []\n",
    "result = {}\n",
    "best_params = {}\n",
    "\n",
    "def sum_square_error(true_val, pred_val):\n",
    "    return np.sum((true_val - pred_val)**2)\n",
    "\n",
    "for reg in np.logspace(-5,-1,5):\n",
    "    for ns in np.logspace(-3,1,5):\n",
    "        for i in range(5):\n",
    "            # Weight Optimization\n",
    "            optimizer = minimize(totalnegloglikelihood,w,args=(dataset[i]['observations'],reg,ns))\n",
    "            w = optimizer.x\n",
    "            # Predict the path\n",
    "            preds = np.array([getpred(dataset[i]['truepath'][:,0], w[:Nbases]), getpred(dataset[i]['truepath'][:,0], w[Nbases:])]).T\n",
    "            # Append the SSE from each dataset\n",
    "            error.append(sum_square_error(dataset[i]['truepath'][:,1:],preds))\n",
    "        # Store the mean of Errors from each hyperparameter\n",
    "        result[f'{reg}|{ns}'] = np.mean(error)\n",
    "        # Reset the error list\n",
    "        error = []\n",
    "\n",
    "best_params['regularisation'] = min(result, key=result.get).split('|')[0]\n",
    "best_params['noise_scale'] = min(result, key=result.get).split('|')[1]\n",
    "best_score = min(result.values())\n",
    "print(f'Best Parameters = {best_params}')\n",
    "print(f'Best Score = {best_score}')"
   ]
  },
  {
   "cell_type": "markdown",
   "metadata": {
    "id": "g8I8OvQAQ0NV"
   },
   "source": [
    "## Estimating uncertainty\n",
    "\n",
    "We can estimate the uncertainty in our predictions. As the details of this approach are beyond the module, I've just put some information about how this is done at the end of this notebook for those who are interested. So for this question we just look at the result of the calculation.\n",
    "\n",
    "Here are the set of samples using the Laplace approximation for `dataset[5]`.\n",
    "\n",
    "<img src='https://drive.usercontent.google.com/download?id=1mvIwUBngNcIfKB3GmeLMITJg27D29Duh&export=download&authuser=0&confirm=t&uuid=e6be019a-6c83-4a92-a372-de9e73e1d627&at=AENtkXYw0QVYJdK2EInNTgiB6xa1:1730842927336' />\n",
    "\n",
    "The black line shows the maximum a posteriori estimate, the grey lines are samples from the approximation to the posterior distribution of the parameters. The true path is in red. The blue lines indicate the observations made by our detectors.\n",
    "\n",
    "To understand this a little more clearly, we can plot the distribution of predicted locations at a single time point (t=1.8s):\n",
    "\n",
    "<img src=\"https://drive.usercontent.google.com/download?id=1abkQjHUrhmGwZ1AbZ0EbA8i98MjRA9Eh&export=download&authuser=0&confirm=t&uuid=e209d1d2-872f-4dbb-941a-ff1f7396271e&at=AENtkXbw7uKK2_c_2ExpdJsPpINe:1730842976324\" />\n",
    "\n",
    "The black cross (+) is the maximum a posteriori estimate, the scattered black points are samples from the posterior to illustrate the distribution. The true location is marked by the red disk, the first three observations (by coincidence all associated with the same detector) are plotted."
   ]
  },
  {
   "cell_type": "markdown",
   "metadata": {
    "id": "OWDgH--CX6J0"
   },
   "source": [
    "## Question 9: Explaining and Interpreting [14 marks]\n",
    "\n",
    "- Q9a) Look at the above graph: Considering the early observations, explain why the posterior distribution of predicted locations at $t=1.8s$ has the distribution indicated? [3 marks]\n",
    "\n",
    "- Q9b) Why does the predicted path at the start and end of the time series curl back into the centre of the plot? [3 marks]\n",
    "\n",
    "- Q9c) Why are we evaluating the performance on `dataset[5]` and not one of the datasets used during optimising the hyperparameters? [1 mark]\n",
    "\n",
    "- Q9d) Why was a Gaussian basis a good choice for this problem? [2 marks]\n",
    "\n",
    "- Q9e) If the detectors had 'false positive' erroneous detections, the observations would contain outliers. Propose a change that could help address these outliers in the data. [2 marks]\n",
    "\n",
    "- Q9f) What other hyperparamters could have been optimised? [1 mark]\n",
    "\n",
    "- Q9g) If the width of the Gaussian bases was 30s instead of 3s, what effect would that have on the type of path that could be predicted? [2 marks]"
   ]
  },
  {
   "cell_type": "markdown",
   "metadata": {
    "id": "3Z1BRMdUWghx"
   },
   "source": [
    "**[Answer here]**\n",
    "\n",
    "Q9a) Since we use Gaussian functions as the basis functions in this model, the predictions tend to cluster around the mean, resembling a normal distribution graph along the observation path.\n",
    "\n",
    "Q9b) This is due to the distribution of the detectors. Since all detectors are positioned between -20 and 20 on the x-axis, contributing to predictions for positions less than -20 and greater than 20 on the x-axis tend to curve toward the center.\n",
    "\n",
    "Q9c) It is the same reason why we use the train_test_split function from sklearn to determine the true accuracy of our model when it is applied to unseen data.\n",
    "\n",
    "Q9d) Since Gaussian function are localized and capable of capture rapid changes like bees' movement which is why it is a good choice for this problem.\n",
    "\n",
    "Q9e) ?\n",
    "\n",
    "Q9f) NBases & Width ($α$)\n",
    "\n",
    "Q9g) ?"
   ]
  },
  {
   "cell_type": "markdown",
   "metadata": {
    "id": "tlpbt7XZbHRe"
   },
   "source": [
    "<hr>\n",
    "\n",
    "# Part 2: Neural networks, Dimensionality reduction and Clustering\n",
    "\n",
    "This is the *second* of the two parts, accounting for the other 50 marks of the overall coursework mark.\n",
    "Attempt as much of this as you can, each of the questions are self-contained and contain some easier and harder bits so even if you can't complete Question 1 straight away then you may still be able to progress with the other questions."
   ]
  },
  {
   "cell_type": "markdown",
   "metadata": {
    "id": "XuixrfuLbHRf"
   },
   "source": [
    "## Overview\n",
    "This part of the assignment will cover:\n",
    "- Q1: Classification and neural networks (lectures 5 and 6)\n",
    "- Q2: Dimensionality reduction and clustering (lectures 7 and 8)\n",
    "\n",
    "### Allowed libraries\n",
    "For this part we are looking for you to demonstrate what you have learned in this module and so we will be restricting what libraries you can use to\n",
    "- Numpy and Scipy\n",
    "- Matplotlib\n",
    "- PyTorch\n",
    "- Scikit-Learn (for simple models)\n",
    "\n",
    "### Assessment Criteria\n",
    "\n",
    "- The marks for this part are distributed as follows:\n",
    "    - **Q1**: 28 marks\n",
    "    - **Q2**: 17 marks\n",
    "    - **Code quality**: 5 marks\n",
    "        - Marks for code quality does not cover the correctness of your answers to each section but rather the style and clarity of your code. You should aim to avoid repetition of code, have clear but concise comments and appropriately named variables.\n",
    "- You'll get marks for correct code that does what is asked and for text based answers to particular points. We are not overly concerned with model performance but you should still aim to get the best results you can for your chosen approaches. You should make sure any figures are plotted properly with axis labels and figure legends.\n",
    "\n",
    "If you are unsure about how to proceed then please ask during the lectures/labs or on the discussion board.\n",
    "\n"
   ]
  },
  {
   "cell_type": "markdown",
   "metadata": {
    "id": "s_b8ho0abHRq"
   },
   "source": [
    "## Question 1: Classification and neural networks [28 marks]\n",
    "\n",
    "This first question will look at implementing classifier models via supervised learning to correctly classify images.\n",
    "\n",
    "We will be using images from the MedMNIST dataset which contains a range of health related image datasets that have been designed to be similar to the original digits MNIST dataset. Specifically we will be working with the OrganAMNIST part of the dataset. The code below will download the dataset for you and load the numpy data file. The data file will be loaded as a dictionary that contains both the images and labels already split to into training, validation and test sets. The each sample is a 28 by 28 greyscale image and are not necessarily normalised. You will need to consider any pre-processing.\n",
    "\n",
    "Your task in this questions is to train **at least 4** different classifier architectures (e.g logistic regression, fully-connected network, convolutional network etc) on this dataset and compare their performance. These can be any of the classifier models introduced in class or any reasonable model from elsewhere. You should consider 4 architectures that are a of suitable variety i.e simply changing the activation function would score lower marks than trying different layer combinations.\n",
    "\n",
    "This question will be broken into the following parts:\n",
    "1) A text description of the model architectures that you have selected and a justification of why you have chosen them. Marks will be awarded for suitability, variety and quality of the architectures.\n",
    "2) The training of the models and the optimisation of any hyper-parameters.\n",
    "3) A plot comparing the training and test accuracy of the different architectures with a short discussion your results."
   ]
  },
  {
   "cell_type": "markdown",
   "metadata": {
    "id": "7ac1b1b8"
   },
   "source": [
    "### About the dataset\n",
    "\n",
    "For this question, you will be working with the OrganA-MNIST dataset. This is a benchmark dataset compiled using real CT scans of patients. The images have been localised and cropped to a 28 x 28 pixel image to replicate the original digits MNIST format. You can find out more information about the MedMNIST [here](https://arxiv.org/pdf/2110.14795). The code below will download the data for you, load the initial data dictionary and plot the 11 classes to visualise what the data is like. For OrganA-MNIST, it contains images of various organs: Left Lung, Right Lung, Heart, Liver, Spleen, Pancreas, Left Kidney, Right Kidney, Bladder, Left Fermoral Head, Right Femoral Head. However, there is no clear documentation relating the numerical class ids to these names. We will work only with the numerical labels but please be aware of this."
   ]
  },
  {
   "cell_type": "code",
   "execution_count": 22,
   "metadata": {
    "id": "AOcGFponbHRq"
   },
   "outputs": [
    {
     "name": "stdout",
     "output_type": "stream",
     "text": [
      "dict key: train_images, array shape: (34561, 28, 28), array datatpye: uint8\n",
      "dict key: train_labels, array shape: (34561, 1), array datatpye: uint8\n",
      "dict key: val_images  , array shape: (6491, 28, 28), array datatpye: uint8\n",
      "dict key: val_labels  , array shape: (6491, 1), array datatpye: uint8\n",
      "dict key: test_images , array shape: (17778, 28, 28), array datatpye: uint8\n",
      "dict key: test_labels , array shape: (17778, 1), array datatpye: uint8\n"
     ]
    }
   ],
   "source": [
    "import numpy as np\n",
    "import urllib.request\n",
    "import os\n",
    "\n",
    "datafile = 'organamnist'\n",
    "\n",
    "# Download the dataset to the local folder\n",
    "if not os.path.isfile(f'./{datafile}.npz'):\n",
    "    urllib.request.urlretrieve(f'https://zenodo.org/records/10519652/files/{datafile}.npz?download=1', f'{datafile}.npz')\n",
    "\n",
    "# Load the compressed numpy array file\n",
    "dataset = np.load(f'./{datafile}.npz')\n",
    "\n",
    "# The loaded dataset contains each array internally\n",
    "for key in dataset.keys():\n",
    "    print(f'dict key: {key:12s}, array shape: {dataset[key].shape}, array datatpye: {dataset[key].dtype}')"
   ]
  },
  {
   "cell_type": "code",
   "execution_count": 23,
   "metadata": {
    "id": "9fc525ee"
   },
   "outputs": [
    {
     "name": "stdout",
     "output_type": "stream",
     "text": [
      "This dataset contains 11 classes.\n"
     ]
    },
    {
     "data": {
      "image/png": "[encoded data removed]",
      "text/plain": [
       "<Figure size 640x480 with 12 Axes>"
      ]
     },
     "metadata": {},
     "output_type": "display_data"
    }
   ],
   "source": [
    "import matplotlib.pyplot as plt\n",
    "\n",
    "class_ids, class_first_occur = np.unique(dataset['train_labels'], return_index=True)\n",
    "\n",
    "print(f'This dataset contains {len(class_ids)} classes.')\n",
    "\n",
    "\n",
    "Nrows = 3; Ncols = 4\n",
    "fig, ax = plt.subplots( Nrows, Ncols, sharex=True, sharey=True)\n",
    "\n",
    "for i in range(Nrows):\n",
    "    for j in range(Ncols):\n",
    "        if( i*Ncols + j < len(class_ids)):\n",
    "            idx = class_first_occur[i*Ncols + j]\n",
    "            label = dataset['train_labels'][idx,0]\n",
    "            ax[i,j].set_title(f'Class {label}')\n",
    "            ax[i,j].set_yticks([])\n",
    "            ax[i,j].set_xticks([])\n",
    "            ax[i,j].imshow(dataset['train_images'][idx], cmap='gray')\n",
    "        else:\n",
    "            ax[i,j].axis('off')\n",
    "plt.show()\n"
   ]
  },
  {
   "cell_type": "markdown",
   "metadata": {
    "id": "f088095b"
   },
   "source": [
    "### 1.1: Initial analysis: clustering and dimensionality reduction [5 marks]\n",
    "\n",
    "The first step of this question will be analyse the data using clustering and dimensionality reduction. In the following blocks you should:\n",
    "1) Apply a **clustering algorithm** of your choice on the training data (using all 784 pixels as features unless there is a good reason to reduce first). Aim to split the data into 11 clusters.\n",
    "2) After you have clustered the data, use a **dimensionality reduction algorithm** (e.g pca) to reduce the images to 3 dimensions.\n",
    "3) Use these reduced dimensions to **create two 3d plots of the test images** with a) the points coloured using the true labels and b) the points coloured using the cluster labels. An example of a 3d plot is given below.\n",
    "4) Provide a **short comment** on what observe from your clustered data.\n",
    "\n",
    "For this sub-question you may use scikit-learn."
   ]
  },
  {
   "cell_type": "code",
   "execution_count": 30,
   "metadata": {
    "id": "347ea0c6"
   },
   "outputs": [
    {
     "data": {
      "text/plain": [
       "(28, 28)"
      ]
     },
     "execution_count": 30,
     "metadata": {},
     "output_type": "execute_result"
    }
   ],
   "source": [
    "# Write your clustering and dimensionality reduction algorithms here.\n",
    "dataset['train_images'][0].shape"
   ]
  },
  {
   "cell_type": "code",
   "execution_count": null,
   "metadata": {
    "id": "e4bc33a4"
   },
   "outputs": [],
   "source": [
    "# Example of a 3d plot using matplotlib\n",
    "from sklearn.datasets import make_blobs\n",
    "\n",
    "fig = plt.figure()\n",
    "ax = fig.add_subplot(projection='3d')\n",
    "\n",
    "example_x, example_labels = make_blobs(200, 3, centers=[[0.0, 0.0, 0.0], [5.0, 0.0, 0.0], [0.0, 5.0, 0.0]])\n",
    "\n",
    "ax.scatter(example_x[:,0], example_x[:,1], example_x[:,2], c=example_labels)\n",
    "plt.show()"
   ]
  },
  {
   "cell_type": "markdown",
   "metadata": {
    "id": "941fca7a"
   },
   "source": [
    "Write your short comment on the clustering results in this markdown box."
   ]
  },
  {
   "cell_type": "markdown",
   "metadata": {
    "id": "v25ZhTj9bHRs"
   },
   "source": [
    "### 1.2 What models/architectures have you chosen to implement [5 marks]\n",
    "\n",
    "Now we will turn to applying classification models to this dataset, your task now is to choose 4 appropriate models or techniques and train them on the OrganA-MNIST dataset. These should have some distinct difference between them, for example a neural network with different number of layers is acceptable but having the same number layers with different sizes is not. This is not limited to neural networks but you should have at least one neural network model. Otherwise, you may use decision trees and/or logistic regression etc.\n",
    "\n",
    "In the following block, write a short (max 400 words) **description and justification** of the architectures that you have chosen to implement. You should also think about any optimisers and error or loss functions that you will be using and why they might be suitable. We are looking for you to assess why the architectures are appropriate for the task at hand. Marks will be awared for clear and well reasoned justifications."
   ]
  },
  {
   "cell_type": "markdown",
   "metadata": {
    "id": "6FgdRguLbHRs"
   },
   "source": [
    "*Write your answer in this markdown cell*"
   ]
  },
  {
   "cell_type": "markdown",
   "metadata": {
    "id": "W0a_iYwTbHRs"
   },
   "source": [
    "### 1.3 Implementation and training of your models. [10 marks]\n",
    "\n",
    "a) Now implement the models that you have introduced above, train them and optimise any hyper-parameters using the validation set. You may wish to store any training results for the next sub-question."
   ]
  },
  {
   "cell_type": "code",
   "execution_count": null,
   "metadata": {
    "id": "O6j29qMqbHRt"
   },
   "outputs": [],
   "source": [
    "# Program your models here. You can use as many cells as necessary but aim to be concise.\n"
   ]
  },
  {
   "cell_type": "markdown",
   "metadata": {
    "id": "1GnU8Js7bHRt"
   },
   "source": [
    "b) In the following block, provide a description of how you have selected or optimised any hyper-parameters."
   ]
  },
  {
   "cell_type": "markdown",
   "metadata": {
    "id": "QpCSee58bHRu"
   },
   "source": [
    "*Write your answer in this markdown cell*"
   ]
  },
  {
   "cell_type": "markdown",
   "metadata": {
    "id": "N8Tws8uDbHRu"
   },
   "source": [
    "### 1.4 Classification results based on the test data [8 marks]\n",
    "\n",
    "a) Create **two bar charts** that provides a comparison between your 4 models; the first should compare the classification accuracy on the training dataset, while the second should compare it on the test set.\n"
   ]
  },
  {
   "cell_type": "code",
   "execution_count": null,
   "metadata": {
    "id": "APoP_hcQbHRv"
   },
   "outputs": [],
   "source": [
    "# Program your plots here."
   ]
  },
  {
   "cell_type": "markdown",
   "metadata": {
    "id": "c6af089a"
   },
   "source": [
    "b) Create and plot a **confusion matrix** for each of your models (4 plots in total) to compare their classification performance."
   ]
  },
  {
   "cell_type": "code",
   "execution_count": null,
   "metadata": {
    "id": "708e1036"
   },
   "outputs": [],
   "source": [
    "# Program your plots here"
   ]
  },
  {
   "cell_type": "markdown",
   "metadata": {
    "id": "uKyaZxkkbHRv"
   },
   "source": [
    "c) Now provide a **short discussion and analysis** of your results and any conclusions that you can make from the data."
   ]
  },
  {
   "cell_type": "markdown",
   "metadata": {
    "id": "sagYqC5BbHRv"
   },
   "source": [
    "*Write your answer in this markdown cell*"
   ]
  },
  {
   "cell_type": "markdown",
   "metadata": {
    "id": "14f730b8"
   },
   "source": [
    "## 2. Denoising Autoencoder [17 marks]\n",
    "\n",
    "### The CIFAR-10 dataset\n",
    "In this assignment, we will work on the CIFAR-10 dataset collected by Alex Krizhevsky, Vinod Nair, and Geoffrey Hinton from the University of Toronto. This dataset consists of 60,000  colour images in 10 classes, with 6,000 images per class. Each sample is a 3-channel colour images of 32x32 pixels in size. There are 50,000 training images and 10,000 test images."
   ]
  },
  {
   "cell_type": "markdown",
   "metadata": {
    "id": "350f8f6d"
   },
   "source": [
    "### 2.1: Data loading and manipulation [3 marks]\n",
    "\n",
    "**2.1a** Using the PyTorch Torchvision datasets, download both the training and test data of the CIFAR-10 dataset. If you find it more convenient, you may download them from a different source the Torchvision. For an example, please see the lab on Convolutional Neural Networks."
   ]
  },
  {
   "cell_type": "code",
   "execution_count": null,
   "metadata": {
    "id": "a7485331"
   },
   "outputs": [],
   "source": [
    "# Code your solution here"
   ]
  },
  {
   "cell_type": "markdown",
   "metadata": {
    "id": "7eb43d21"
   },
   "source": [
    "**2.1b** Add random noise to all training and test data to generate noisy dataset, e.g., by torch.randn(), with a scaling factor scale, e.g., original image + scale * torch.randn(), and normalise/standardise the pixel values to the original range, e.g., using torch.clip(). You may choose any scale value between 0.2 and 0.5.\n",
    "\n",
    "There are 2 ways to apply these random transformations using the latest version of Torchvision. Either are acceptable as long as the correct noise is applied.\n",
    "- In the newer verions, PyTorch has introduced v2 transformations which includes directly a `GaussianNoise([mean, sigma, clip])` transformation (please see [here](https://pytorch.org/vision/master/transforms.html#color) for more details).\n",
    "- If you are not using the vv2 transformations then random transformation can be applied using a `Lambda` [transform](https://pytorch.org/vision/stable/transforms.html) when composing the load data transform, which looks a little like this:  \n",
    "`transforms.Lambda(lambda x: x + ..... )`\n",
    "\n",
    "Note: Before generating the random noise, you MUST set the random seed to your UCard number XXXXXXXXX for reproducibility, e.g., using torch.manual_seed(). This seed needs to be used for all remaining code if there is randomness, for reproducibility.\n",
    "\n",
    "You may want to create separate dataloaders for the noisy and clear images but make sure they are **not shuffling the data** so that correct pair of images are being given as input and desired output."
   ]
  },
  {
   "cell_type": "code",
   "execution_count": null,
   "metadata": {
    "id": "db71ec42"
   },
   "outputs": [],
   "source": [
    "# Code your solution here"
   ]
  },
  {
   "cell_type": "markdown",
   "metadata": {
    "id": "ceb5d205"
   },
   "source": [
    "**2.1c** Show 10 pairs of original and noisy images."
   ]
  },
  {
   "cell_type": "code",
   "execution_count": null,
   "metadata": {
    "id": "fd2c64ee"
   },
   "outputs": [],
   "source": [
    "# Code your solution here"
   ]
  },
  {
   "cell_type": "markdown",
   "metadata": {
    "id": "f4a19355"
   },
   "source": [
    "\n",
    "### 2.2 Applying a Denoising Autoencoder to the modified CIFAR10 [10 marks]\n",
    "\n",
    "This question uses both the original and noisy CIFAR-10 datasets (all 10 classes).\n",
    "Read about denoising autoencoders at [Wikipedia](https://en.wikipedia.org/wiki/Autoencoder) and this [short introduction](https://towardsdatascience.com/denoising-autoencoders-explained-dbb82467fc2) or any other sources you like."
   ]
  },
  {
   "cell_type": "markdown",
   "metadata": {
    "id": "1ca4b210"
   },
   "source": [
    "**2.2a** Modify the autoencoder architecture so that it takes colour images as input (i.e., 3 input channels)."
   ]
  },
  {
   "cell_type": "code",
   "execution_count": null,
   "metadata": {
    "id": "1f510b52"
   },
   "outputs": [],
   "source": [
    "# Code your solution here"
   ]
  },
  {
   "cell_type": "markdown",
   "metadata": {
    "id": "44b0c634"
   },
   "source": [
    "**2.2b** Training: feed the noisy training images as input to the autoencoder defined above; use a loss function that computes the reconstruction error between the output of the autoencoder and the respective original images.\n",
    "\n"
   ]
  },
  {
   "cell_type": "code",
   "execution_count": null,
   "metadata": {
    "id": "c7c55cb6"
   },
   "outputs": [],
   "source": [
    "# Code your solution here"
   ]
  },
  {
   "cell_type": "markdown",
   "metadata": {
    "id": "60933862"
   },
   "source": [
    "**2.2c** Testing: evaluate the autoencoder trained in 2.2b on the test datasets (feed noisy images in and compute reconstruction errors on original clean images. Find the worst denoised 20 images (those with the largest reconstruction errors) in the test set and show them in pairs with the original images (40 images to show in total)."
   ]
  },
  {
   "cell_type": "code",
   "execution_count": null,
   "metadata": {
    "id": "3ebae695"
   },
   "outputs": [],
   "source": [
    "# Code your solution here"
   ]
  },
  {
   "cell_type": "markdown",
   "metadata": {
    "id": "1c704df4"
   },
   "source": [
    "**2.2d** Choose at least **two** hyperparameters (e.g learning rate) to vary. Study at least **three** different choices for each hyperparameter. When varying one hyperparameter, all the other hyperparameters can be fixed. **Plot** the reconstruction error with respect to each of these hyper-parameters."
   ]
  },
  {
   "cell_type": "code",
   "execution_count": null,
   "metadata": {
    "id": "61655a16"
   },
   "outputs": [],
   "source": [
    "# Code your solution here"
   ]
  },
  {
   "cell_type": "markdown",
   "metadata": {
    "id": "35e33ab2"
   },
   "source": [
    "### 2.3 Discussion of results [4 marks]\n",
    "**2.3a** Describe at least **two** interesting relevant observations from the evaluation results above."
   ]
  },
  {
   "cell_type": "markdown",
   "metadata": {
    "id": "c182248d"
   },
   "source": [
    "Write your solution in this markdown box"
   ]
  }
 ],
 "metadata": {
  "colab": {
   "provenance": []
  },
  "kernelspec": {
   "display_name": "Python 3",
   "name": "python3"
  },
  "language_info": {
   "codemirror_mode": {
    "name": "ipython",
    "version": 3
   },
   "file_extension": ".py",
   "mimetype": "text/x-python",
   "name": "python",
   "nbconvert_exporter": "python",
   "pygments_lexer": "ipython3",
   "version": "3.12.6"
  }
 },
 "nbformat": 4,
 "nbformat_minor": 0
}
